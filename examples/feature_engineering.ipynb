{
 "cells": [
  {
   "cell_type": "markdown",
   "metadata": {},
   "source": [
    "# Feature engineering examples\n",
    "\n",
    "This notebook contains some examples of feature engineering using SAM."
   ]
  },
  {
   "cell_type": "code",
   "execution_count": null,
   "metadata": {},
   "outputs": [],
   "source": [
    "import pandas as pd\n",
    "\n",
    "data = pd.read_parquet('../data/rainbow_beach.parquet')\n",
    "\n",
    "data.head()"
   ]
  },
  {
   "cell_type": "markdown",
   "metadata": {},
   "source": [
    "## Simple feature engineering for timeseries data\n",
    "\n",
    "The class `sam.feature_engineering.SimpleFeatureEngineering` is used to create common features for timeseries data: rolling features and time components.\n",
    "\n",
    "A rolling feature can be parameterized by a tuple of the form `(column_name, method, rolling_window)`, where `column_name` is the name of the column to be used as the time series, `method` is the type of rolling feature (e.g. \"mean\", \"lag\", \"max\"), and `rolling_window` is the size of the rolling window.\n",
    "\n",
    "A time component can be either be descibed by a dummy variable (one hot encoding) or a cyclic variable (sin/cos). To parameterize a cyclic variable, a tuple of the form `(period, component_type)` is used."
   ]
  },
  {
   "cell_type": "code",
   "execution_count": null,
   "metadata": {},
   "outputs": [],
   "source": [
    "from sam.feature_engineering import SimpleFeatureEngineer\n",
    "\n",
    "\n",
    "sfe = SimpleFeatureEngineer(\n",
    "    rolling_features=[\n",
    "        (\"water_temperature\", \"mean\", \"1D\"),\n",
    "        (\"water_temperature\", \"mean\", \"2D\"),\n",
    "        (\"turbidity\", \"max\", \"1D\"),\n",
    "        (\"turbidity\", \"max\", \"2D\"),\n",
    "    ],\n",
    "    time_features=[\n",
    "        (\"hour_of_day\", \"cyclical\"),\n",
    "        (\"day_of_week\", \"cyclical\"),\n",
    "    ],\n",
    "    time_col=\"TIME\",  # leave as None if using a time index\n",
    ")\n",
    "\n",
    "sfe.fit_transform(data)"
   ]
  },
  {
   "cell_type": "markdown",
   "metadata": {},
   "source": [
    "## Custom feature engineering function\n",
    "\n",
    "If you want more freedom and customize your feature engineering, you can use `sam.feature_engineering.FeatureEngineering` to create your own feature engineering transformer from a feature engineering function. This class provides methods to make sure the interface is compatible with sam models.\n"
   ]
  },
  {
   "cell_type": "code",
   "execution_count": null,
   "metadata": {},
   "outputs": [],
   "source": [
    "from sam.feature_engineering import FeatureEngineer\n",
    "\n",
    "def my_feature_engineering(X, y=None):\n",
    "    \"\"\"Don't forget documentation\n",
    "    \"\"\"\n",
    "    X_out = X.copy()\n",
    "    X_out = X_out[[\"battery_life\", \"water_temperature\", \"turbidity\"]]\n",
    "    X_out['my_feature'] = X_out['water_temperature'].rolling(window=24).mean().pow(2)\n",
    "    return X_out\n",
    "\n",
    "my_fe = FeatureEngineer(my_feature_engineering)\n",
    "\n",
    "my_fe.fit_transform(data)"
   ]
  },
  {
   "cell_type": "markdown",
   "metadata": {},
   "source": [
    "## Customized feature engineering class\n",
    "\n",
    "If a single function does not fit your needs, you can create your own feature engineering class. By creating a subclass of `sam.feature_engineering.BaseFeatureEngineer`, you can implement your own feature engineering function. You only need to implement the `feature_engineer_` method. If you want to fit certain parameters, you can implement the `fit` method as well. Check the current implementation of `BaseFeatureEngineer` or `SimpleFeatureEngineer` for an example.\n",
    "\n"
   ]
  }
 ],
 "metadata": {
  "kernelspec": {
   "display_name": "Python 3.8.10 ('.env': venv)",
   "language": "python",
   "name": "python3"
  },
  "language_info": {
   "codemirror_mode": {
    "name": "ipython",
    "version": 3
   },
   "file_extension": ".py",
   "mimetype": "text/x-python",
   "name": "python",
   "nbconvert_exporter": "python",
   "pygments_lexer": "ipython3",
   "version": "3.8.10"
  },
  "orig_nbformat": 4,
  "vscode": {
   "interpreter": {
    "hash": "a603532e0ef3e672029c611f470e4ea76f9f8ba87d880bb6488c98a584e893e8"
   }
  }
 },
 "nbformat": 4,
 "nbformat_minor": 2
}
