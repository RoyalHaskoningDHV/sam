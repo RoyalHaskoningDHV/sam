{
 "cells": [
  {
   "cell_type": "markdown",
   "metadata": {},
   "source": [
    "# MLP for timeseries example"
   ]
  },
  {
   "cell_type": "code",
   "execution_count": null,
   "metadata": {},
   "outputs": [],
   "source": [
    "from sam.models import TimeseriesMLP\n",
    "from sam.feature_engineering import SimpleFeatureEngineer\n",
    "\n",
    "import pandas as pd"
   ]
  },
  {
   "cell_type": "code",
   "execution_count": null,
   "metadata": {},
   "outputs": [],
   "source": [
    "data = pd.read_parquet(\"../data/rainbow_beach.parquet\")\n",
    "data.head()"
   ]
  },
  {
   "cell_type": "code",
   "execution_count": null,
   "metadata": {},
   "outputs": [],
   "source": [
    "simple_features = SimpleFeatureEngineer(\n",
    "    rolling_features=[\n",
    "        (\"wave_height\", \"mean\", 48),\n",
    "        (\"wave_height\", \"mean\", 24),\n",
    "        (\"wave_height\", \"mean\", 12),\n",
    "    ],\n",
    "    time_features=[\n",
    "        (\"hour_of_day\", \"cyclical\"),\n",
    "        (\"day_of_week\", \"cyclical\"),\n",
    "    ],\n",
    "    keep_original=False,\n",
    ")\n",
    "\n",
    "X = data\n",
    "y = data['water_temperature']\n"
   ]
  },
  {
   "cell_type": "code",
   "execution_count": null,
   "metadata": {},
   "outputs": [],
   "source": [
    "model = TimeseriesMLP(\n",
    "    predict_ahead=(0,),\n",
    "    feature_engineer=simple_features,\n",
    "    use_diff_of_y=False,\n",
    "    epochs=20,\n",
    "    verbose=0\n",
    ")\n",
    "\n",
    "model.fit(X, y)"
   ]
  },
  {
   "cell_type": "code",
   "execution_count": null,
   "metadata": {},
   "outputs": [],
   "source": [
    "model.predict(X, y).plot()\n",
    "y.plot()"
   ]
  },
  {
   "cell_type": "markdown",
   "metadata": {},
   "source": [
    "## Using a pipeline for feature engineering\n",
    "\n",
    "Timeseries models should support any sklearn pipeline"
   ]
  },
  {
   "cell_type": "code",
   "execution_count": null,
   "metadata": {},
   "outputs": [],
   "source": [
    "from sklearn.pipeline import Pipeline\n",
    "from sklearn.impute import SimpleImputer\n",
    "\n",
    "simple_features = SimpleFeatureEngineer(\n",
    "    rolling_features=[\n",
    "        (\"wave_height\", \"mean\", 48),\n",
    "        (\"wave_height\", \"mean\", 24),\n",
    "        (\"wave_height\", \"mean\", 12),\n",
    "    ],\n",
    "    time_features=[\n",
    "        (\"hour_of_day\", \"cyclical\"),\n",
    "        (\"day_of_week\", \"cyclical\"),\n",
    "    ],\n",
    "    keep_original=False,\n",
    ")\n",
    "\n",
    "feature_pipeline = Pipeline(steps=[\n",
    "    ('feature_engineer', simple_features),\n",
    "    ('imputer', SimpleImputer(strategy='mean')),\n",
    "])\n",
    "\n",
    "\n",
    "model = TimeseriesMLP(\n",
    "    predict_ahead=(0,),\n",
    "    feature_engineer=feature_pipeline,\n",
    "    use_diff_of_y=False,\n",
    "    epochs=20,\n",
    "    verbose=0\n",
    ")\n",
    "\n",
    "model.fit(X, y)"
   ]
  },
  {
   "cell_type": "code",
   "execution_count": null,
   "metadata": {},
   "outputs": [],
   "source": [
    "model.predict(X, y).plot()"
   ]
  }
 ],
 "metadata": {
  "kernelspec": {
   "display_name": "Python 3.8.10 ('.env': venv)",
   "language": "python",
   "name": "python3"
  },
  "language_info": {
   "codemirror_mode": {
    "name": "ipython",
    "version": 3
   },
   "file_extension": ".py",
   "mimetype": "text/x-python",
   "name": "python",
   "nbconvert_exporter": "python",
   "pygments_lexer": "ipython3",
   "version": "3.8.10"
  },
  "orig_nbformat": 4,
  "vscode": {
   "interpreter": {
    "hash": "a603532e0ef3e672029c611f470e4ea76f9f8ba87d880bb6488c98a584e893e8"
   }
  }
 },
 "nbformat": 4,
 "nbformat_minor": 2
}
