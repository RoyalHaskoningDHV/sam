{
 "cells": [
  {
   "cell_type": "markdown",
   "metadata": {},
   "source": [
    "# MLP for timeseries example"
   ]
  },
  {
   "cell_type": "code",
   "execution_count": 9,
   "metadata": {},
   "outputs": [],
   "source": [
    "from sam.models import TimeseriesMLP\n",
    "from sam.feature_engineering import SimpleFeatureEngineer\n",
    "\n",
    "import pandas as pd"
   ]
  },
  {
   "cell_type": "code",
   "execution_count": 13,
   "metadata": {},
   "outputs": [
    {
     "data": {
      "text/html": [
       "<div>\n",
       "<style scoped>\n",
       "    .dataframe tbody tr th:only-of-type {\n",
       "        vertical-align: middle;\n",
       "    }\n",
       "\n",
       "    .dataframe tbody tr th {\n",
       "        vertical-align: top;\n",
       "    }\n",
       "\n",
       "    .dataframe thead th {\n",
       "        text-align: right;\n",
       "    }\n",
       "</style>\n",
       "<table border=\"1\" class=\"dataframe\">\n",
       "  <thead>\n",
       "    <tr style=\"text-align: right;\">\n",
       "      <th>TYPE</th>\n",
       "      <th>Battery Life</th>\n",
       "      <th>Transducer Depth</th>\n",
       "      <th>Turbidity</th>\n",
       "      <th>Water Temperature</th>\n",
       "      <th>Wave Height</th>\n",
       "      <th>Wave Period</th>\n",
       "    </tr>\n",
       "    <tr>\n",
       "      <th>TIME</th>\n",
       "      <th></th>\n",
       "      <th></th>\n",
       "      <th></th>\n",
       "      <th></th>\n",
       "      <th></th>\n",
       "      <th></th>\n",
       "    </tr>\n",
       "  </thead>\n",
       "  <tbody>\n",
       "    <tr>\n",
       "      <th>2014-06-15 00:00:00</th>\n",
       "      <td>11.6</td>\n",
       "      <td>1.495</td>\n",
       "      <td>0.85</td>\n",
       "      <td>16.6</td>\n",
       "      <td>0.136</td>\n",
       "      <td>3.0</td>\n",
       "    </tr>\n",
       "    <tr>\n",
       "      <th>2014-06-15 01:00:00</th>\n",
       "      <td>11.6</td>\n",
       "      <td>1.420</td>\n",
       "      <td>0.87</td>\n",
       "      <td>16.3</td>\n",
       "      <td>0.117</td>\n",
       "      <td>4.0</td>\n",
       "    </tr>\n",
       "    <tr>\n",
       "      <th>2014-06-15 02:00:00</th>\n",
       "      <td>11.6</td>\n",
       "      <td>1.478</td>\n",
       "      <td>0.79</td>\n",
       "      <td>16.1</td>\n",
       "      <td>0.114</td>\n",
       "      <td>7.0</td>\n",
       "    </tr>\n",
       "    <tr>\n",
       "      <th>2014-06-15 03:00:00</th>\n",
       "      <td>11.6</td>\n",
       "      <td>1.518</td>\n",
       "      <td>0.76</td>\n",
       "      <td>15.9</td>\n",
       "      <td>0.111</td>\n",
       "      <td>3.0</td>\n",
       "    </tr>\n",
       "    <tr>\n",
       "      <th>2014-06-15 04:00:00</th>\n",
       "      <td>11.6</td>\n",
       "      <td>1.507</td>\n",
       "      <td>0.77</td>\n",
       "      <td>15.7</td>\n",
       "      <td>0.107</td>\n",
       "      <td>3.0</td>\n",
       "    </tr>\n",
       "  </tbody>\n",
       "</table>\n",
       "</div>"
      ],
      "text/plain": [
       "TYPE                 Battery Life  Transducer Depth  Turbidity  \\\n",
       "TIME                                                             \n",
       "2014-06-15 00:00:00          11.6             1.495       0.85   \n",
       "2014-06-15 01:00:00          11.6             1.420       0.87   \n",
       "2014-06-15 02:00:00          11.6             1.478       0.79   \n",
       "2014-06-15 03:00:00          11.6             1.518       0.76   \n",
       "2014-06-15 04:00:00          11.6             1.507       0.77   \n",
       "\n",
       "TYPE                 Water Temperature  Wave Height  Wave Period  \n",
       "TIME                                                              \n",
       "2014-06-15 00:00:00               16.6        0.136          3.0  \n",
       "2014-06-15 01:00:00               16.3        0.117          4.0  \n",
       "2014-06-15 02:00:00               16.1        0.114          7.0  \n",
       "2014-06-15 03:00:00               15.9        0.111          3.0  \n",
       "2014-06-15 04:00:00               15.7        0.107          3.0  "
      ]
     },
     "execution_count": 13,
     "metadata": {},
     "output_type": "execute_result"
    }
   ],
   "source": [
    "data = pd.read_feather(\"../data/rainbow_beach.feather\").set_index('TIME')\n",
    "data.head()"
   ]
  },
  {
   "cell_type": "code",
   "execution_count": 12,
   "metadata": {},
   "outputs": [
    {
     "data": {
      "text/plain": [
       "Wave Height_mean_48         0\n",
       "Wave Height_mean_24         0\n",
       "Wave Height_mean_12         0\n",
       "hour_of_day_cyclical_sin    0\n",
       "hour_of_day_cyclical_cos    0\n",
       "day_of_week_cyclical_sin    0\n",
       "day_of_week_cyclical_cos    0\n",
       "dtype: int64"
      ]
     },
     "execution_count": 12,
     "metadata": {},
     "output_type": "execute_result"
    }
   ],
   "source": [
    "simple_features = SimpleFeatureEngineer(\n",
    "    rolling_features=[\n",
    "        (\"Wave Height\", \"mean\", 48),\n",
    "        (\"Wave Height\", \"mean\", 24),\n",
    "        (\"Wave Height\", \"mean\", 12),\n",
    "    ],\n",
    "    time_features=[\n",
    "        (\"hour_of_day\", \"cyclical\"),\n",
    "        (\"day_of_week\", \"cyclical\"),\n",
    "    ],\n",
    "    keep_original=False,\n",
    ")\n",
    "\n",
    "X = data\n",
    "y = data['water_temperature']\n",
    "ix = simple_features.fit_transform(X).dropna(how=\"any\").index[0]\n",
    "simple_features.fit_transform(X)[ix:].isna().sum()\n"
   ]
  },
  {
   "cell_type": "code",
   "execution_count": null,
   "metadata": {},
   "outputs": [
    {
     "name": "stderr",
     "output_type": "stream",
     "text": [
      "/home/arjan/projects/SAM/sam/sam/models/base_model.py:128: UserWarning: No timecolumn given. Make sure the data ismonospaced when given to this model!\n",
      "  warnings.warn(\n",
      "/home/arjan/projects/SAM/sam/.env/lib/python3.8/site-packages/keras/optimizer_v2/adam.py:105: UserWarning: The `lr` argument is deprecated, use `learning_rate` instead.\n",
      "  super(Adam, self).__init__(name, **kwargs)\n"
     ]
    },
    {
     "data": {
      "text/plain": [
       "<keras.callbacks.History at 0x7f74640639d0>"
      ]
     },
     "execution_count": 12,
     "metadata": {},
     "output_type": "execute_result"
    }
   ],
   "source": [
    "model = TimeseriesMLP(\n",
    "    predict_ahead=0,\n",
    "    feature_engineer=simple_features,\n",
    "    use_diff_of_y=False,\n",
    "    epochs=20,\n",
    "    verbose=0\n",
    ")\n",
    "\n",
    "model.fit(X, y)"
   ]
  },
  {
   "cell_type": "code",
   "execution_count": null,
   "metadata": {},
   "outputs": [
    {
     "name": "stderr",
     "output_type": "stream",
     "text": [
      "/home/arjan/projects/SAM/sam/sam/models/base_model.py:128: UserWarning: No timecolumn given. Make sure the data ismonospaced when given to this model!\n",
      "  warnings.warn(\n"
     ]
    },
    {
     "data": {
      "text/plain": [
       "<AxesSubplot:xlabel='TIME'>"
      ]
     },
     "execution_count": 13,
     "metadata": {},
     "output_type": "execute_result"
    },
    {
     "data": {
      "image/png": "[encoded data removed]",
      "text/plain": [
       "<Figure size 432x288 with 1 Axes>"
      ]
     },
     "metadata": {
      "needs_background": "light"
     },
     "output_type": "display_data"
    }
   ],
   "source": [
    "model.predict(X, y).plot()\n",
    "y.plot()"
   ]
  },
  {
   "cell_type": "markdown",
   "metadata": {},
   "source": []
  },
  {
   "cell_type": "markdown",
   "metadata": {},
   "source": []
  }
 ],
 "metadata": {
  "kernelspec": {
   "display_name": "Python 3.8.10 ('.env': venv)",
   "language": "python",
   "name": "python3"
  },
  "language_info": {
   "codemirror_mode": {
    "name": "ipython",
    "version": 3
   },
   "file_extension": ".py",
   "mimetype": "text/x-python",
   "name": "python",
   "nbconvert_exporter": "python",
   "pygments_lexer": "ipython3",
   "version": "3.8.10"
  },
  "orig_nbformat": 4,
  "vscode": {
   "interpreter": {
    "hash": "a603532e0ef3e672029c611f470e4ea76f9f8ba87d880bb6488c98a584e893e8"
   }
  }
 },
 "nbformat": 4,
 "nbformat_minor": 2
}
