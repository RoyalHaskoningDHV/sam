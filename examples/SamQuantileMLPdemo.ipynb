{
 "cells": [
  {
   "cell_type": "markdown",
   "metadata": {},
   "source": [
    "# Sam 1.1 Tutorial\n",
    "\n",
    "This document is a tutorial for how to use sam to train a 'decent' model easily, and how to go from there, using the sam package.\n",
    "\n",
    "The used data can be found on the NAS, as 'ChicagoWater.feather'\n",
    "\n",
    "## Goals of this document\n",
    "\n",
    "* Start with data in SAM format, even with issues such as missing values and non-uniform timestamps\n",
    "* Show the complete steps to getting a working model with little effort, that performs significantly better than the benchmark\n",
    "* Show the additional features and possibilities for extending/changing the model\n",
    "\n",
    "## Table of contents\n",
    "\n",
    "1. Loading the data\n",
    "2. Preparing the data for SamQuantileMLP\n",
    "3. Fitting the SamQuantileMLP\n",
    "4. Making and interpreting predictions\n",
    "5. Diagnostics and other features\n",
    "6. Improving and extending the model\n",
    "7. Training an LSTM instead (coming in the future!)"
   ]
  },
  {
   "cell_type": "code",
   "execution_count": 1,
   "metadata": {},
   "outputs": [],
   "source": [
    "%load_ext autoreload\n",
    "%autoreload 2\n",
    "\n",
    "import warnings\n",
    "from pathlib import Path\n",
    "\n",
    "import os\n",
    "# Hide some of the tensorflow warnings, only to make the notebook more readable\n",
    "os.environ['TF_CPP_MIN_LOG_LEVEL'] = '2' \n",
    "# Hide the FutureWarnings thrown by tensorflow, to make the notebook more readable\n",
    "warnings.simplefilter(\"ignore\", category=FutureWarning)\n",
    "\n",
    "import sam\n",
    "from sam.models import SamQuantileMLP\n",
    "from sam.preprocessing import sam_format_to_wide\n",
    "\n",
    "import pandas as pd\n",
    "import numpy as np\n",
    "import tensorflow as tf\n",
    "# Hide some of the tensorflow warnings, only to make the notebook more readable\n",
    "tf.logging.set_verbosity(tf.logging.ERROR)\n",
    "\n",
    "from sklearn.model_selection import train_test_split\n",
    "from sklearn.metrics import mean_squared_error\n",
    "\n",
    "# Set the folder to read data from\n",
    "datafolder = Path('../data')\n",
    "\n",
    "# We configure tensorflow to not take up all GPU memory. Useful when sharing a GPU with others\n",
    "config = tf.ConfigProto()\n",
    "config.gpu_options.allow_growth=True\n",
    "sess = tf.Session(config=config)"
   ]
  },
  {
   "cell_type": "markdown",
   "metadata": {},
   "source": [
    "# Part 1 - Loading the data\n",
    "\n",
    "The first thing we do is read some data in 'SAM' format. This format is the following columns:\n",
    "* TIME - the timestamp of the measurement\n",
    "* ID - the name or location of the sensor\n",
    "* TYPE - the type of the sensor, or what it is measuring\n",
    "* VALUE - the value of the measurement\n",
    "\n",
    "If your data is not in this format, try bringing it into this format. If your data is in wide format, you can use `sam.preprocessing.wide_to_sam_format`. However, this is not neccecary, since we will shortly convert to wide format anyway. Unfortunately, since this preprocessing is very data-specific, we cannot give any specific pointers here.\n",
    "\n",
    "We have to do some data specific preprocessing: we will decide to focus only on 'Oak Street Weather Station' and 'Ohio Street Beach'.\n",
    "This is obviously data-specific, so we will not dwell on this too long."
   ]
  },
  {
   "cell_type": "code",
   "execution_count": 2,
   "metadata": {},
   "outputs": [
    {
     "data": {
      "text/plain": [
       "Timestamp('2013-09-03 03:00:00')"
      ]
     },
     "metadata": {},
     "output_type": "display_data"
    },
    {
     "data": {
      "text/plain": [
       "Timestamp('2018-08-07 10:00:00')"
      ]
     },
     "metadata": {},
     "output_type": "display_data"
    },
    {
     "data": {
      "text/plain": [
       "array(['Ohio Street Beach', 'Oak Street Weather Station'], dtype=object)"
      ]
     },
     "metadata": {},
     "output_type": "display_data"
    },
    {
     "data": {
      "text/html": [
       "<div>\n",
       "<style scoped>\n",
       "    .dataframe tbody tr th:only-of-type {\n",
       "        vertical-align: middle;\n",
       "    }\n",
       "\n",
       "    .dataframe tbody tr th {\n",
       "        vertical-align: top;\n",
       "    }\n",
       "\n",
       "    .dataframe thead th {\n",
       "        text-align: right;\n",
       "    }\n",
       "</style>\n",
       "<table border=\"1\" class=\"dataframe\">\n",
       "  <thead>\n",
       "    <tr style=\"text-align: right;\">\n",
       "      <th></th>\n",
       "      <th>ID</th>\n",
       "      <th>TIME</th>\n",
       "      <th>TYPE</th>\n",
       "      <th>VALUE</th>\n",
       "    </tr>\n",
       "  </thead>\n",
       "  <tbody>\n",
       "    <tr>\n",
       "      <th>109560</th>\n",
       "      <td>Ohio Street Beach</td>\n",
       "      <td>2013-09-03 03:00:00</td>\n",
       "      <td>Water Temperature</td>\n",
       "      <td>21.9</td>\n",
       "    </tr>\n",
       "    <tr>\n",
       "      <th>109561</th>\n",
       "      <td>Ohio Street Beach</td>\n",
       "      <td>2014-06-05 12:00:00</td>\n",
       "      <td>Water Temperature</td>\n",
       "      <td>16.9</td>\n",
       "    </tr>\n",
       "    <tr>\n",
       "      <th>109562</th>\n",
       "      <td>Ohio Street Beach</td>\n",
       "      <td>2014-06-06 14:00:00</td>\n",
       "      <td>Water Temperature</td>\n",
       "      <td>18.8</td>\n",
       "    </tr>\n",
       "    <tr>\n",
       "      <th>109563</th>\n",
       "      <td>Ohio Street Beach</td>\n",
       "      <td>2014-06-06 17:00:00</td>\n",
       "      <td>Water Temperature</td>\n",
       "      <td>19.8</td>\n",
       "    </tr>\n",
       "    <tr>\n",
       "      <th>109564</th>\n",
       "      <td>Ohio Street Beach</td>\n",
       "      <td>2014-06-06 18:00:00</td>\n",
       "      <td>Water Temperature</td>\n",
       "      <td>19.7</td>\n",
       "    </tr>\n",
       "  </tbody>\n",
       "</table>\n",
       "</div>"
      ],
      "text/plain": [
       "                       ID                TIME               TYPE  VALUE\n",
       "109560  Ohio Street Beach 2013-09-03 03:00:00  Water Temperature   21.9\n",
       "109561  Ohio Street Beach 2014-06-05 12:00:00  Water Temperature   16.9\n",
       "109562  Ohio Street Beach 2014-06-06 14:00:00  Water Temperature   18.8\n",
       "109563  Ohio Street Beach 2014-06-06 17:00:00  Water Temperature   19.8\n",
       "109564  Ohio Street Beach 2014-06-06 18:00:00  Water Temperature   19.7"
      ]
     },
     "execution_count": 2,
     "metadata": {},
     "output_type": "execute_result"
    }
   ],
   "source": [
    "data = pd.read_feather(datafolder / 'ChicagoWater.feather')\n",
    "\n",
    "# Data-specific preprocessing: for this demo, we just take one beach and one weather station\n",
    "data = data.loc[data['ID'].isin(['Ohio Street Beach', 'Oak Street Weather Station'])]\n",
    "# Data-specific processing: This type is almost only nans, so we just get rid of it\n",
    "data = data.loc[data['TYPE'] != 'Transducer Depth']\n",
    "\n",
    "# Here, we show the locations, and timestamps\n",
    "# It looks like we have about 6 years of data, but for more in-depth insights, use the sam-exploration dashboard instead\n",
    "display(data.TIME.min())\n",
    "display(data.TIME.max())\n",
    "display(data.ID.unique())\n",
    "data.head()"
   ]
  },
  {
   "cell_type": "markdown",
   "metadata": {},
   "source": [
    "# Part 2 - Preparing the data for SamQuantileMLP\n",
    "\n",
    "The SamQuantileMLP does a lot of processing by itself, but there are a few things that (for now) need to be handled before inputting. In order:\n",
    "\n",
    "1. The data needs to be in wide format. For this, we can use `sam.preprocessing.sam_format_to_wide`.\n",
    "\n",
    "2. The data needs to be monospaced. Our data is not monospaced yet, since the winters are missing.\n",
    "     - For making the data monospaced, we recommend to use `pd.resample`. This method does not work if there are duplicate timestamps, in which case you can use `sam.preprocessing.normalize_timestamp`\n",
    "\n",
    "3. X_train, X_test, y_train, y_test need to be split. In our case, we will use sklearn `train_test_split`, and `Ohio Street Beach_Water Temperature` as the target\n",
    "\n",
    "4. The data needs to be imputed. The target does not need to be imputed, since the SamQuantileMLP will automatically throw away rows where the target is missing\n",
    "     - Imputation is done in SamQuantileMLP, but only after the rolling features. This means many rolling windows will fail, making the feature engineering less useful.\n",
    "      This may be improved in the future, so for now it is recommended to impute your data beforehand."
   ]
  },
  {
   "cell_type": "code",
   "execution_count": 3,
   "metadata": {},
   "outputs": [
    {
     "data": {
      "text/html": [
       "<div>\n",
       "<style scoped>\n",
       "    .dataframe tbody tr th:only-of-type {\n",
       "        vertical-align: middle;\n",
       "    }\n",
       "\n",
       "    .dataframe tbody tr th {\n",
       "        vertical-align: top;\n",
       "    }\n",
       "\n",
       "    .dataframe thead th {\n",
       "        text-align: right;\n",
       "    }\n",
       "</style>\n",
       "<table border=\"1\" class=\"dataframe\">\n",
       "  <thead>\n",
       "    <tr style=\"text-align: right;\">\n",
       "      <th></th>\n",
       "      <th>TIME</th>\n",
       "      <th>Oak Street Weather Station_Air Temperature</th>\n",
       "      <th>Oak Street Weather Station_Barometric Pressure</th>\n",
       "      <th>Oak Street Weather Station_Battery Life</th>\n",
       "      <th>Oak Street Weather Station_Heading</th>\n",
       "      <th>Oak Street Weather Station_Humidity</th>\n",
       "      <th>Oak Street Weather Station_Interval Rain</th>\n",
       "      <th>Oak Street Weather Station_Maximum Wind Speed</th>\n",
       "      <th>Oak Street Weather Station_Precipitation Type</th>\n",
       "      <th>Oak Street Weather Station_Rain Intensity</th>\n",
       "      <th>Oak Street Weather Station_Solar Radiation</th>\n",
       "      <th>Oak Street Weather Station_Total Rain</th>\n",
       "      <th>Oak Street Weather Station_Wet Bulb Temperature</th>\n",
       "      <th>Oak Street Weather Station_Wind Direction</th>\n",
       "      <th>Oak Street Weather Station_Wind Speed</th>\n",
       "      <th>Ohio Street Beach_Battery Life</th>\n",
       "      <th>Ohio Street Beach_Turbidity</th>\n",
       "      <th>Ohio Street Beach_Water Temperature</th>\n",
       "      <th>Ohio Street Beach_Wave Height</th>\n",
       "      <th>Ohio Street Beach_Wave Period</th>\n",
       "    </tr>\n",
       "  </thead>\n",
       "  <tbody>\n",
       "    <tr>\n",
       "      <th>0</th>\n",
       "      <td>2013-09-03 03:00:00</td>\n",
       "      <td>NaN</td>\n",
       "      <td>NaN</td>\n",
       "      <td>NaN</td>\n",
       "      <td>NaN</td>\n",
       "      <td>NaN</td>\n",
       "      <td>NaN</td>\n",
       "      <td>NaN</td>\n",
       "      <td>NaN</td>\n",
       "      <td>NaN</td>\n",
       "      <td>NaN</td>\n",
       "      <td>NaN</td>\n",
       "      <td>NaN</td>\n",
       "      <td>NaN</td>\n",
       "      <td>NaN</td>\n",
       "      <td>9.4</td>\n",
       "      <td>4.97</td>\n",
       "      <td>21.9</td>\n",
       "      <td>0.241</td>\n",
       "      <td>7.0</td>\n",
       "    </tr>\n",
       "    <tr>\n",
       "      <th>1</th>\n",
       "      <td>2014-06-05 12:00:00</td>\n",
       "      <td>NaN</td>\n",
       "      <td>NaN</td>\n",
       "      <td>NaN</td>\n",
       "      <td>NaN</td>\n",
       "      <td>NaN</td>\n",
       "      <td>NaN</td>\n",
       "      <td>NaN</td>\n",
       "      <td>NaN</td>\n",
       "      <td>NaN</td>\n",
       "      <td>NaN</td>\n",
       "      <td>NaN</td>\n",
       "      <td>NaN</td>\n",
       "      <td>NaN</td>\n",
       "      <td>NaN</td>\n",
       "      <td>12.8</td>\n",
       "      <td>1.60</td>\n",
       "      <td>16.9</td>\n",
       "      <td>0.159</td>\n",
       "      <td>3.0</td>\n",
       "    </tr>\n",
       "    <tr>\n",
       "      <th>2</th>\n",
       "      <td>2014-06-06 14:00:00</td>\n",
       "      <td>NaN</td>\n",
       "      <td>NaN</td>\n",
       "      <td>NaN</td>\n",
       "      <td>NaN</td>\n",
       "      <td>NaN</td>\n",
       "      <td>NaN</td>\n",
       "      <td>NaN</td>\n",
       "      <td>NaN</td>\n",
       "      <td>NaN</td>\n",
       "      <td>NaN</td>\n",
       "      <td>NaN</td>\n",
       "      <td>NaN</td>\n",
       "      <td>NaN</td>\n",
       "      <td>NaN</td>\n",
       "      <td>12.4</td>\n",
       "      <td>0.70</td>\n",
       "      <td>18.8</td>\n",
       "      <td>0.135</td>\n",
       "      <td>2.0</td>\n",
       "    </tr>\n",
       "    <tr>\n",
       "      <th>3</th>\n",
       "      <td>2014-06-06 17:00:00</td>\n",
       "      <td>NaN</td>\n",
       "      <td>NaN</td>\n",
       "      <td>NaN</td>\n",
       "      <td>NaN</td>\n",
       "      <td>NaN</td>\n",
       "      <td>NaN</td>\n",
       "      <td>NaN</td>\n",
       "      <td>NaN</td>\n",
       "      <td>NaN</td>\n",
       "      <td>NaN</td>\n",
       "      <td>NaN</td>\n",
       "      <td>NaN</td>\n",
       "      <td>NaN</td>\n",
       "      <td>NaN</td>\n",
       "      <td>12.3</td>\n",
       "      <td>0.78</td>\n",
       "      <td>19.8</td>\n",
       "      <td>0.162</td>\n",
       "      <td>3.0</td>\n",
       "    </tr>\n",
       "    <tr>\n",
       "      <th>4</th>\n",
       "      <td>2014-06-06 18:00:00</td>\n",
       "      <td>NaN</td>\n",
       "      <td>NaN</td>\n",
       "      <td>NaN</td>\n",
       "      <td>NaN</td>\n",
       "      <td>NaN</td>\n",
       "      <td>NaN</td>\n",
       "      <td>NaN</td>\n",
       "      <td>NaN</td>\n",
       "      <td>NaN</td>\n",
       "      <td>NaN</td>\n",
       "      <td>NaN</td>\n",
       "      <td>NaN</td>\n",
       "      <td>NaN</td>\n",
       "      <td>NaN</td>\n",
       "      <td>12.3</td>\n",
       "      <td>0.77</td>\n",
       "      <td>19.7</td>\n",
       "      <td>0.130</td>\n",
       "      <td>3.0</td>\n",
       "    </tr>\n",
       "  </tbody>\n",
       "</table>\n",
       "</div>"
      ],
      "text/plain": [
       "                 TIME  Oak Street Weather Station_Air Temperature  \\\n",
       "0 2013-09-03 03:00:00                                         NaN   \n",
       "1 2014-06-05 12:00:00                                         NaN   \n",
       "2 2014-06-06 14:00:00                                         NaN   \n",
       "3 2014-06-06 17:00:00                                         NaN   \n",
       "4 2014-06-06 18:00:00                                         NaN   \n",
       "\n",
       "   Oak Street Weather Station_Barometric Pressure  \\\n",
       "0                                             NaN   \n",
       "1                                             NaN   \n",
       "2                                             NaN   \n",
       "3                                             NaN   \n",
       "4                                             NaN   \n",
       "\n",
       "   Oak Street Weather Station_Battery Life  \\\n",
       "0                                      NaN   \n",
       "1                                      NaN   \n",
       "2                                      NaN   \n",
       "3                                      NaN   \n",
       "4                                      NaN   \n",
       "\n",
       "   Oak Street Weather Station_Heading  Oak Street Weather Station_Humidity  \\\n",
       "0                                 NaN                                  NaN   \n",
       "1                                 NaN                                  NaN   \n",
       "2                                 NaN                                  NaN   \n",
       "3                                 NaN                                  NaN   \n",
       "4                                 NaN                                  NaN   \n",
       "\n",
       "   Oak Street Weather Station_Interval Rain  \\\n",
       "0                                       NaN   \n",
       "1                                       NaN   \n",
       "2                                       NaN   \n",
       "3                                       NaN   \n",
       "4                                       NaN   \n",
       "\n",
       "   Oak Street Weather Station_Maximum Wind Speed  \\\n",
       "0                                            NaN   \n",
       "1                                            NaN   \n",
       "2                                            NaN   \n",
       "3                                            NaN   \n",
       "4                                            NaN   \n",
       "\n",
       "   Oak Street Weather Station_Precipitation Type  \\\n",
       "0                                            NaN   \n",
       "1                                            NaN   \n",
       "2                                            NaN   \n",
       "3                                            NaN   \n",
       "4                                            NaN   \n",
       "\n",
       "   Oak Street Weather Station_Rain Intensity  \\\n",
       "0                                        NaN   \n",
       "1                                        NaN   \n",
       "2                                        NaN   \n",
       "3                                        NaN   \n",
       "4                                        NaN   \n",
       "\n",
       "   Oak Street Weather Station_Solar Radiation  \\\n",
       "0                                         NaN   \n",
       "1                                         NaN   \n",
       "2                                         NaN   \n",
       "3                                         NaN   \n",
       "4                                         NaN   \n",
       "\n",
       "   Oak Street Weather Station_Total Rain  \\\n",
       "0                                    NaN   \n",
       "1                                    NaN   \n",
       "2                                    NaN   \n",
       "3                                    NaN   \n",
       "4                                    NaN   \n",
       "\n",
       "   Oak Street Weather Station_Wet Bulb Temperature  \\\n",
       "0                                              NaN   \n",
       "1                                              NaN   \n",
       "2                                              NaN   \n",
       "3                                              NaN   \n",
       "4                                              NaN   \n",
       "\n",
       "   Oak Street Weather Station_Wind Direction  \\\n",
       "0                                        NaN   \n",
       "1                                        NaN   \n",
       "2                                        NaN   \n",
       "3                                        NaN   \n",
       "4                                        NaN   \n",
       "\n",
       "   Oak Street Weather Station_Wind Speed  Ohio Street Beach_Battery Life  \\\n",
       "0                                    NaN                             9.4   \n",
       "1                                    NaN                            12.8   \n",
       "2                                    NaN                            12.4   \n",
       "3                                    NaN                            12.3   \n",
       "4                                    NaN                            12.3   \n",
       "\n",
       "   Ohio Street Beach_Turbidity  Ohio Street Beach_Water Temperature  \\\n",
       "0                         4.97                                 21.9   \n",
       "1                         1.60                                 16.9   \n",
       "2                         0.70                                 18.8   \n",
       "3                         0.78                                 19.8   \n",
       "4                         0.77                                 19.7   \n",
       "\n",
       "   Ohio Street Beach_Wave Height  Ohio Street Beach_Wave Period  \n",
       "0                          0.241                            7.0  \n",
       "1                          0.159                            3.0  \n",
       "2                          0.135                            2.0  \n",
       "3                          0.162                            3.0  \n",
       "4                          0.130                            3.0  "
      ]
     },
     "execution_count": 3,
     "metadata": {},
     "output_type": "execute_result"
    }
   ],
   "source": [
    "# Step 1\n",
    "data_wide = sam.preprocessing.sam_format_to_wide(data)\n",
    "data_wide.head()"
   ]
  },
  {
   "cell_type": "code",
   "execution_count": 4,
   "metadata": {},
   "outputs": [],
   "source": [
    "# Step 2\n",
    "\n",
    "# For missing timestamps, we can choose to forwardfill or other 'smart' interpolation methods\n",
    "# In our case we don't want to interpolate, we just want to ignore all the measurements in the winter, so we just fill then with nans\n",
    "data_wide = (data_wide\n",
    "             .set_index('TIME')  # resample requires a time index\n",
    "             .resample('1H')  # Make sure the data is monospaced with a 1 hour indexs\n",
    "             .asfreq(None)  # fill all new values with nans\n",
    "             .reset_index()\n",
    "            )"
   ]
  },
  {
   "cell_type": "code",
   "execution_count": 5,
   "metadata": {},
   "outputs": [],
   "source": [
    "# Step 3\n",
    "\n",
    "# Now let's create train/test set\n",
    "targetname = 'Ohio Street Beach_Water Temperature'\n",
    "\n",
    "target = data_wide[targetname]\n",
    "data_wide = data_wide.drop(targetname, axis=1)\n",
    "\n",
    "# Keep in mind to use `shuffle=False`, since we want the test to be *after* the train, not intermixed\n",
    "X_train, X_test, y_train, y_test = train_test_split(data_wide, target, test_size=0.33, shuffle=False)"
   ]
  },
  {
   "cell_type": "code",
   "execution_count": 6,
   "metadata": {},
   "outputs": [],
   "source": [
    "# Step 4\n",
    "\n",
    "# Now we will impute X_train and X_test\n",
    "# Again, this may be added to SamQuantileMLP in the future.\n",
    "\n",
    "# This is an extremely basic imputation method. In a real project, consider a 'better' method\n",
    "X_train = X_train.ffill().bfill()\n",
    "X_test = X_test.ffill().bfill()"
   ]
  },
  {
   "cell_type": "markdown",
   "metadata": {},
   "source": [
    "# Part 3 - Fitting the SamQuantileMLP\n",
    "\n",
    "Here, we will create and fit a SamQuantileMLP with near-default parameters, but still explicitly mention and explain the parameters\n",
    "\n",
    "Note that the model, by default, does differencing when predicting the future! This should not be noticable to the user, but it means that for predicting,\n",
    "the current value of the  target is required, to be able to predict the future value."
   ]
  },
  {
   "cell_type": "code",
   "execution_count": 7,
   "metadata": {},
   "outputs": [
    {
     "name": "stdout",
     "output_type": "stream",
     "text": [
      "Train on 6325 samples, validate on 4060 samples\n",
      "Epoch 1/10\n",
      "6325/6325 [==============================] - 2s 368us/sample - loss: 1.8150 - val_loss: 0.8526\n",
      "Epoch 2/10\n",
      "6325/6325 [==============================] - 1s 237us/sample - loss: 1.2300 - val_loss: 0.8254\n",
      "Epoch 3/10\n",
      "6325/6325 [==============================] - 2s 238us/sample - loss: 1.0879 - val_loss: 0.7995\n",
      "Epoch 4/10\n",
      "6325/6325 [==============================] - 1s 237us/sample - loss: 0.9622 - val_loss: 0.7751\n",
      "Epoch 5/10\n",
      "6325/6325 [==============================] - 2s 239us/sample - loss: 0.9043 - val_loss: 0.7459\n",
      "Epoch 6/10\n",
      "6325/6325 [==============================] - 1s 235us/sample - loss: 0.9351 - val_loss: 0.7943\n",
      "Epoch 7/10\n",
      "6325/6325 [==============================] - 1s 235us/sample - loss: 0.9012 - val_loss: 0.7652\n",
      "Epoch 8/10\n",
      "6325/6325 [==============================] - 2s 239us/sample - loss: 0.8946 - val_loss: 0.7346\n",
      "Epoch 9/10\n",
      "6325/6325 [==============================] - 1s 235us/sample - loss: 0.8519 - val_loss: 0.7520\n",
      "Epoch 10/10\n",
      "6325/6325 [==============================] - 2s 238us/sample - loss: 0.8593 - val_loss: 0.7257\n"
     ]
    }
   ],
   "source": [
    "model = SamQuantileMLP(\n",
    "     predict_ahead=5,  # We will predict 5 timestep ahead. NOTE: you can also predict the present by setting this to 0, or predict multiple timesteps by passing a list\n",
    "     quantiles=(0.3, 0.7),  # We will predict two quantiles. NOTE: by default, no quantiles are predicted\n",
    "     use_y_as_feature=True,  # We will use y as a feature in our model\n",
    "     timecol='TIME',  # We will use 'TIME' as a feature column. NOTE: by default, the model assumes there is no time column\n",
    "     time_components=['hour', 'weekday'],  # We will use these components as features\n",
    "     time_cyclicals=['hour', 'weekday'],  # We will use these components as cyclical features instead of regular\n",
    "     rolling_window_size=(4, 19),  # We will use this window size to calculate rolling features. 19 makes sense because it is exactly a day before our prediction 5 timesteps ahead.\n",
    "     rolling_features=['lag'],  # We will calculate these rolling features\n",
    "    \n",
    "    # Note: For these parameters, see `sam.models.keras_quantile_mlp`\n",
    "     n_neurons=200,  # Our MLP will use this many neurons\n",
    "     n_layers=2,  # Our MLP will use this many layers\n",
    "     batch_size=16,  # Our MLP will have this batch size\n",
    "     epochs=10,  # Our MLP will use this many epochs\n",
    "     lr=0.001,  # Our MLP will use this learning rate\n",
    "     dropout=0.5,  # Our MLP will use this dropout rate (None for no dropout)\n",
    "     momentum=None,  # Our MLP will use this batchnorm rate (None for no batchnorm )\n",
    "     verbose=True  # Our MLP will have this verbosity\n",
    ")\n",
    "\n",
    "# Now fit the model. This method has an almost identical signature to the regular Keras Sequential fit method (https://keras.io/models/sequential/)\n",
    "history = model.fit(X_train, y_train, validation_data = (X_test, y_test))\n",
    "\n"
   ]
  },
  {
   "cell_type": "code",
   "execution_count": 8,
   "metadata": {},
   "outputs": [
    {
     "name": "stdout",
     "output_type": "stream",
     "text": [
      "['Oak Street Weather Station_Air Temperature#lag_4', 'Oak Street Weather Station_Barometric Pressure#lag_4', 'Oak Street Weather Station_Battery Life#lag_4', 'Oak Street Weather Station_Heading#lag_4', 'Oak Street Weather Station_Humidity#lag_4', 'Oak Street Weather Station_Interval Rain#lag_4', 'Oak Street Weather Station_Maximum Wind Speed#lag_4', 'Oak Street Weather Station_Precipitation Type#lag_4', 'Oak Street Weather Station_Rain Intensity#lag_4', 'Oak Street Weather Station_Solar Radiation#lag_4', 'Oak Street Weather Station_Total Rain#lag_4', 'Oak Street Weather Station_Wet Bulb Temperature#lag_4', 'Oak Street Weather Station_Wind Direction#lag_4', 'Oak Street Weather Station_Wind Speed#lag_4', 'Ohio Street Beach_Battery Life#lag_4', 'Ohio Street Beach_Turbidity#lag_4', 'Ohio Street Beach_Wave Height#lag_4', 'Ohio Street Beach_Wave Period#lag_4', 'y_#lag_4', 'Oak Street Weather Station_Air Temperature#lag_19', 'Oak Street Weather Station_Barometric Pressure#lag_19', 'Oak Street Weather Station_Battery Life#lag_19', 'Oak Street Weather Station_Heading#lag_19', 'Oak Street Weather Station_Humidity#lag_19', 'Oak Street Weather Station_Interval Rain#lag_19', 'Oak Street Weather Station_Maximum Wind Speed#lag_19', 'Oak Street Weather Station_Precipitation Type#lag_19', 'Oak Street Weather Station_Rain Intensity#lag_19', 'Oak Street Weather Station_Solar Radiation#lag_19', 'Oak Street Weather Station_Total Rain#lag_19', 'Oak Street Weather Station_Wet Bulb Temperature#lag_19', 'Oak Street Weather Station_Wind Direction#lag_19', 'Oak Street Weather Station_Wind Speed#lag_19', 'Ohio Street Beach_Battery Life#lag_19', 'Ohio Street Beach_Turbidity#lag_19', 'Ohio Street Beach_Wave Height#lag_19', 'Ohio Street Beach_Wave Period#lag_19', 'y_#lag_19', 'Oak Street Weather Station_Air Temperature', 'Oak Street Weather Station_Barometric Pressure', 'Oak Street Weather Station_Battery Life', 'Oak Street Weather Station_Heading', 'Oak Street Weather Station_Humidity', 'Oak Street Weather Station_Interval Rain', 'Oak Street Weather Station_Maximum Wind Speed', 'Oak Street Weather Station_Precipitation Type', 'Oak Street Weather Station_Rain Intensity', 'Oak Street Weather Station_Solar Radiation', 'Oak Street Weather Station_Total Rain', 'Oak Street Weather Station_Wet Bulb Temperature', 'Oak Street Weather Station_Wind Direction', 'Oak Street Weather Station_Wind Speed', 'Ohio Street Beach_Battery Life', 'Ohio Street Beach_Turbidity', 'Ohio Street Beach_Wave Height', 'Ohio Street Beach_Wave Period', 'y_', 'TIME_hour_sin', 'TIME_hour_cos', 'TIME_weekday_sin', 'TIME_weekday_cos']\n",
      "\n",
      "val_loss: 0.7257186330390504\n"
     ]
    }
   ],
   "source": [
    "# Show the features passed to the keras model\n",
    "print(model.get_feature_names())\n",
    "\n",
    "# Note that the model.score method should give the same output as the val_loss above:\n",
    "print(\"\\nval_loss:\", model.score(X_test, y_test))"
   ]
  },
  {
   "cell_type": "markdown",
   "metadata": {},
   "source": [
    "# 4. Making and interpreting the prediction\n",
    "\n",
    "Making a prediction is simple with `model.predict(X_test, y_test)`. Note that, because we use y as a feature, and also do differencing, we need to pass the *present* value of `y` to the predict function. Note that this is not 'cheating', because we are actually predicting the future value, not the present value.\n",
    "\n",
    "Also note that the transformer will build rolling features from scratch. If `X_test` is not large enough (for example, only 12 datapoints when you need a window of 24), all the predictions will be nan."
   ]
  },
  {
   "cell_type": "code",
   "execution_count": 9,
   "metadata": {},
   "outputs": [
    {
     "data": {
      "text/html": [
       "<div>\n",
       "<style scoped>\n",
       "    .dataframe tbody tr th:only-of-type {\n",
       "        vertical-align: middle;\n",
       "    }\n",
       "\n",
       "    .dataframe tbody tr th {\n",
       "        vertical-align: top;\n",
       "    }\n",
       "\n",
       "    .dataframe thead th {\n",
       "        text-align: right;\n",
       "    }\n",
       "</style>\n",
       "<table border=\"1\" class=\"dataframe\">\n",
       "  <thead>\n",
       "    <tr style=\"text-align: right;\">\n",
       "      <th></th>\n",
       "      <th>predict_lead_5_q_0.3</th>\n",
       "      <th>predict_lead_5_q_0.7</th>\n",
       "      <th>predict_lead_5_mean</th>\n",
       "    </tr>\n",
       "  </thead>\n",
       "  <tbody>\n",
       "    <tr>\n",
       "      <th>43179</th>\n",
       "      <td>23.346641</td>\n",
       "      <td>23.717753</td>\n",
       "      <td>23.516434</td>\n",
       "    </tr>\n",
       "    <tr>\n",
       "      <th>43180</th>\n",
       "      <td>23.229255</td>\n",
       "      <td>23.559990</td>\n",
       "      <td>23.397897</td>\n",
       "    </tr>\n",
       "    <tr>\n",
       "      <th>43181</th>\n",
       "      <td>23.443978</td>\n",
       "      <td>23.869128</td>\n",
       "      <td>23.633140</td>\n",
       "    </tr>\n",
       "    <tr>\n",
       "      <th>43182</th>\n",
       "      <td>23.632196</td>\n",
       "      <td>24.049843</td>\n",
       "      <td>23.821854</td>\n",
       "    </tr>\n",
       "    <tr>\n",
       "      <th>43183</th>\n",
       "      <td>23.772809</td>\n",
       "      <td>24.163323</td>\n",
       "      <td>23.946742</td>\n",
       "    </tr>\n",
       "  </tbody>\n",
       "</table>\n",
       "</div>"
      ],
      "text/plain": [
       "       predict_lead_5_q_0.3  predict_lead_5_q_0.7  predict_lead_5_mean\n",
       "43179             23.346641             23.717753            23.516434\n",
       "43180             23.229255             23.559990            23.397897\n",
       "43181             23.443978             23.869128            23.633140\n",
       "43182             23.632196             24.049843            23.821854\n",
       "43183             23.772809             24.163323            23.946742"
      ]
     },
     "execution_count": 9,
     "metadata": {},
     "output_type": "execute_result"
    }
   ],
   "source": [
    "prediction = model.predict(X_test, y_test)\n",
    "# Note that we are showing the tail, not the head. Due to incomplete rolling windows, the first couple of predictions are always nan\n",
    "prediction.tail(5)"
   ]
  },
  {
   "cell_type": "markdown",
   "metadata": {},
   "source": [
    "The prediction has three columns, pertaining to `lead_5`. This means that for the datapoint in that row, when we predict 1 timestep ahead, our predictions are as such.\n",
    "Of course, we might want to know more about this prediction, compare it to the true value, etcetera. We can do the following things:\n",
    "\n",
    "* Get the data and timestamp for each prediction: join `X_test` and `prediction` on index: They have the same index, and `X_test` contains data and timestamp at which the prediction was made (not the timestamp that the prediction pertains to!)\n",
    "* Get the current value of the target, at the time each prediction was made: Join `y_test` and `prediction` on index. This is useful, for instance when you want to compare to the persistence benchmark. Simply predicting `y_test` would be the same as the persistence benchmark.\n",
    "* Get the 'actual' value in hindsight, for evaluating the model. This is done with `model.get_actual(y_test)`. This function will return a dataframe similar to `prediction`, but with the 'true' values. This is used for evaluating the model."
   ]
  },
  {
   "cell_type": "code",
   "execution_count": 10,
   "metadata": {},
   "outputs": [
    {
     "data": {
      "text/plain": [
       "43174    23.3\n",
       "43175    23.3\n",
       "43176    23.3\n",
       "43177    23.5\n",
       "43178     NaN\n",
       "43179     NaN\n",
       "43180     NaN\n",
       "43181     NaN\n",
       "43182     NaN\n",
       "43183     NaN\n",
       "dtype: float64"
      ]
     },
     "execution_count": 10,
     "metadata": {},
     "output_type": "execute_result"
    }
   ],
   "source": [
    "actual = model.get_actual(y_test)\n",
    "# Note that we are predicting 5 timesteps ahead. Therefore the last timesteps have no 'actual' value: we have no data about what the 'true' value would be 1 step in the future.\n",
    "# If we would be predicting multiple timesteps (for example: 1, 2 and 3 timesteps ahead), this function returns a dataframe instead of a series\n",
    "actual.tail(10)"
   ]
  },
  {
   "cell_type": "code",
   "execution_count": 11,
   "metadata": {},
   "outputs": [
    {
     "data": {
      "text/html": [
       "<div>\n",
       "<style scoped>\n",
       "    .dataframe tbody tr th:only-of-type {\n",
       "        vertical-align: middle;\n",
       "    }\n",
       "\n",
       "    .dataframe tbody tr th {\n",
       "        vertical-align: top;\n",
       "    }\n",
       "\n",
       "    .dataframe thead th {\n",
       "        text-align: right;\n",
       "    }\n",
       "</style>\n",
       "<table border=\"1\" class=\"dataframe\">\n",
       "  <thead>\n",
       "    <tr style=\"text-align: right;\">\n",
       "      <th></th>\n",
       "      <th>TIME</th>\n",
       "      <th>actual</th>\n",
       "      <th>persistence</th>\n",
       "      <th>prediction</th>\n",
       "    </tr>\n",
       "  </thead>\n",
       "  <tbody>\n",
       "    <tr>\n",
       "      <th>43174</th>\n",
       "      <td>2018-08-07 01:00:00</td>\n",
       "      <td>23.3</td>\n",
       "      <td>23.7</td>\n",
       "      <td>23.553070</td>\n",
       "    </tr>\n",
       "    <tr>\n",
       "      <th>43175</th>\n",
       "      <td>2018-08-07 02:00:00</td>\n",
       "      <td>23.3</td>\n",
       "      <td>23.6</td>\n",
       "      <td>23.503781</td>\n",
       "    </tr>\n",
       "    <tr>\n",
       "      <th>43176</th>\n",
       "      <td>2018-08-07 03:00:00</td>\n",
       "      <td>23.3</td>\n",
       "      <td>23.5</td>\n",
       "      <td>23.444521</td>\n",
       "    </tr>\n",
       "    <tr>\n",
       "      <th>43177</th>\n",
       "      <td>2018-08-07 04:00:00</td>\n",
       "      <td>23.5</td>\n",
       "      <td>23.4</td>\n",
       "      <td>23.395161</td>\n",
       "    </tr>\n",
       "    <tr>\n",
       "      <th>43178</th>\n",
       "      <td>2018-08-07 05:00:00</td>\n",
       "      <td>NaN</td>\n",
       "      <td>NaN</td>\n",
       "      <td>NaN</td>\n",
       "    </tr>\n",
       "    <tr>\n",
       "      <th>43179</th>\n",
       "      <td>2018-08-07 06:00:00</td>\n",
       "      <td>NaN</td>\n",
       "      <td>23.3</td>\n",
       "      <td>23.516434</td>\n",
       "    </tr>\n",
       "    <tr>\n",
       "      <th>43180</th>\n",
       "      <td>2018-08-07 07:00:00</td>\n",
       "      <td>NaN</td>\n",
       "      <td>23.3</td>\n",
       "      <td>23.397897</td>\n",
       "    </tr>\n",
       "    <tr>\n",
       "      <th>43181</th>\n",
       "      <td>2018-08-07 08:00:00</td>\n",
       "      <td>NaN</td>\n",
       "      <td>23.3</td>\n",
       "      <td>23.633140</td>\n",
       "    </tr>\n",
       "    <tr>\n",
       "      <th>43182</th>\n",
       "      <td>2018-08-07 09:00:00</td>\n",
       "      <td>NaN</td>\n",
       "      <td>23.5</td>\n",
       "      <td>23.821854</td>\n",
       "    </tr>\n",
       "    <tr>\n",
       "      <th>43183</th>\n",
       "      <td>2018-08-07 10:00:00</td>\n",
       "      <td>NaN</td>\n",
       "      <td>23.7</td>\n",
       "      <td>23.946742</td>\n",
       "    </tr>\n",
       "  </tbody>\n",
       "</table>\n",
       "</div>"
      ],
      "text/plain": [
       "                     TIME  actual  persistence  prediction\n",
       "43174 2018-08-07 01:00:00    23.3         23.7   23.553070\n",
       "43175 2018-08-07 02:00:00    23.3         23.6   23.503781\n",
       "43176 2018-08-07 03:00:00    23.3         23.5   23.444521\n",
       "43177 2018-08-07 04:00:00    23.5         23.4   23.395161\n",
       "43178 2018-08-07 05:00:00     NaN          NaN         NaN\n",
       "43179 2018-08-07 06:00:00     NaN         23.3   23.516434\n",
       "43180 2018-08-07 07:00:00     NaN         23.3   23.397897\n",
       "43181 2018-08-07 08:00:00     NaN         23.3   23.633140\n",
       "43182 2018-08-07 09:00:00     NaN         23.5   23.821854\n",
       "43183 2018-08-07 10:00:00     NaN         23.7   23.946742"
      ]
     },
     "execution_count": 11,
     "metadata": {},
     "output_type": "execute_result"
    }
   ],
   "source": [
    "# Combine everything:\n",
    "\n",
    "# We ignore the quantile predictions for now.\n",
    "all_prediction_data = pd.DataFrame({\n",
    "    'TIME': X_test['TIME'],\n",
    "    'actual': model.get_actual(y_test),\n",
    "    'persistence': y_test,\n",
    "    'prediction': prediction['predict_lead_5_mean']\n",
    "})\n",
    "all_prediction_data.tail(10)"
   ]
  },
  {
   "cell_type": "code",
   "execution_count": 41,
   "metadata": {},
   "outputs": [
    {
     "data": {
      "text/plain": [
       "<matplotlib.axes._subplots.AxesSubplot at 0x7f2a2063f9b0>"
      ]
     },
     "execution_count": 41,
     "metadata": {},
     "output_type": "execute_result"
    },
    {
     "data": {
      "image/png": "[encoded data removed]",
      "text/plain": [
       "<Figure size 432x288 with 1 Axes>"
      ]
     },
     "metadata": {
      "needs_background": "light"
     },
     "output_type": "display_data"
    }
   ],
   "source": [
    "# Show the prediction vs the actual value\n",
    "# There is not (yet) a single plotting solution\n",
    "# So here, we just show a single way to plot a prediction\n",
    "%matplotlib inline\n",
    "\n",
    "(all_prediction_data\n",
    "   .loc[all_prediction_data['TIME'] > '2017-07-18 00:00:00']\n",
    "   .loc[all_prediction_data['TIME'] < '2017-07-23 00:00:00']\n",
    "   .set_index('TIME')\n",
    "   .loc[:, ['actual', 'prediction']]\n",
    ").plot()"
   ]
  },
  {
   "cell_type": "code",
   "execution_count": 12,
   "metadata": {},
   "outputs": [
    {
     "name": "stdout",
     "output_type": "stream",
     "text": [
      "model MSE:\n",
      "0.36348970684600324\n",
      "persistence benchmark:\n",
      "0.7820024630541873\n"
     ]
    }
   ],
   "source": [
    "# Score the predictions\n",
    "\n",
    "# Note that the performance isn't great yet due to the very basic feature engineering. Ask Fenno or Daan about progress on this, but better feature engineering is coming ASAP!\n",
    "# Also, it may be worth tinkering with some of the parameters such as number of neurons, learning rate, dropout, etc. However, good feature engineering, from experience,\n",
    "# has by far the biggest contribution to good performance.\n",
    "\n",
    "# We dropna because mean_squared_error crashes if it gets passed nans\n",
    "\n",
    "print('model MSE:')\n",
    "print(mean_squared_error(all_prediction_data.dropna()['actual'], all_prediction_data.dropna()['prediction']))\n",
    "\n",
    "\n",
    "print('persistence benchmark:')\n",
    "print(mean_squared_error(all_prediction_data.dropna()['actual'], all_prediction_data.dropna()['persistence']))"
   ]
  },
  {
   "cell_type": "markdown",
   "metadata": {},
   "source": [
    "# 5. Diagnostics and other features\n",
    "\n",
    "In this section, we show how we can inspect the model and predictions in a bit more detail. Also, we show how to dump/load the model, and show a summary, because that didn't really fit in any other section\n",
    "\n",
    "* quantile_feature_importances\n",
    "* get_explainer\n",
    "* plot (coming soon!)\n",
    "* dump/load/summary"
   ]
  },
  {
   "cell_type": "code",
   "execution_count": 13,
   "metadata": {},
   "outputs": [
    {
     "name": "stderr",
     "output_type": "stream",
     "text": [
      "Using TensorFlow backend.\n"
     ]
    }
   ],
   "source": [
    "# Quantile Feature importance (ELI5)\n",
    "\n",
    "# This will output a dataframe with n_iter rows, and a column for each column used in the model.\n",
    "# The lower the score, the more important it is. If a certain column only has scores around 0, it is not a very important feature\n",
    "\n",
    "# We only use 100 samples here. This is purely for performance reasons. The more data samples and the more iterations, the more accurate it will be.\n",
    "score_decreases = model.quantile_feature_importances(X_test[-100:], y_test[-100:], n_iter=5)"
   ]
  },
  {
   "cell_type": "code",
   "execution_count": 14,
   "metadata": {},
   "outputs": [
    {
     "data": {
      "text/plain": [
       "TIME_hour_sin                                            -0.337948\n",
       "TIME_hour_cos                                            -0.147360\n",
       "y_#lag_19                                                -0.048396\n",
       "y_                                                       -0.030729\n",
       "Oak Street Weather Station_Wet Bulb Temperature#lag_19   -0.022272\n",
       "                                                            ...   \n",
       "Oak Street Weather Station_Air Temperature#lag_4          0.001650\n",
       "Oak Street Weather Station_Wet Bulb Temperature#lag_4     0.001675\n",
       "Oak Street Weather Station_Total Rain#lag_19              0.002729\n",
       "Oak Street Weather Station_Solar Radiation#lag_19         0.006177\n",
       "Oak Street Weather Station_Heading#lag_4                  0.007839\n",
       "Length: 61, dtype: float64"
      ]
     },
     "execution_count": 14,
     "metadata": {},
     "output_type": "execute_result"
    }
   ],
   "source": [
    "# We can average the trials to get an approximate feature importance\n",
    "feature_importances = score_decreases.mean().sort_values()\n",
    "feature_importances"
   ]
  },
  {
   "cell_type": "code",
   "execution_count": 15,
   "metadata": {},
   "outputs": [
    {
     "data": {
      "image/png": "[encoded data removed]",
      "text/plain": [
       "<Figure size 432x288 with 1 Axes>"
      ]
     },
     "metadata": {
      "needs_background": "light"
     },
     "output_type": "display_data"
    }
   ],
   "source": [
    "# Or we can show the score decreases with errorbars. Note that we only show the top 15 most importance features, since it would get too long otherwise\n",
    "import seaborn\n",
    "%matplotlib inline\n",
    "chart = seaborn.barplot(data=score_decreases[feature_importances.index[:15]], orient='h')"
   ]
  },
  {
   "cell_type": "code",
   "execution_count": 16,
   "metadata": {},
   "outputs": [
    {
     "name": "stderr",
     "output_type": "stream",
     "text": [
      "/home/jovyan/my-conda-envs/r-tensorflow/lib/python3.7/site-packages/shap/explainers/deep/deep_tf.py:148: UserWarning: You have provided over 5k background samples! For better performance consider using smaller random sample.\n",
      "  warnings.warn(\"You have provided over 5k background samples! For better performance consider using smaller random sample.\")\n"
     ]
    },
    {
     "data": {
      "image/png": "[encoded data removed]",
      "text/plain": [
       "<Figure size 1440x216 with 1 Axes>"
      ]
     },
     "metadata": {
      "needs_background": "light"
     },
     "output_type": "display_data"
    }
   ],
   "source": [
    "# SHAP\n",
    "\n",
    "%matplotlib inline\n",
    "import shap\n",
    "\n",
    "# Obtain a SHAP explainer that works on our (non-keras) model\n",
    "explainer = model.get_explainer(X_test, y_test)\n",
    "\n",
    "shap_values = explainer.shap_values(X_test[0:10], y_test[0:10])\n",
    "test_values = explainer.test_values(X_test[0:10], y_test[0:10])\n",
    "\n",
    "# After obtaining shap values, we can use the normal force plot\n",
    "shap.force_plot(explainer.expected_value[0], shap_values[0][-1,:], test_values.iloc[-1,:], matplotlib=True)"
   ]
  },
  {
   "cell_type": "code",
   "execution_count": 17,
   "metadata": {},
   "outputs": [
    {
     "data": {
      "image/png": "[encoded data removed]",
      "text/plain": [
       "<Figure size 1440x216 with 1 Axes>"
      ]
     },
     "metadata": {
      "needs_background": "light"
     },
     "output_type": "display_data"
    }
   ],
   "source": [
    "from sam.utils import sum_grouped_columns\n",
    "\n",
    "# Code taken straight from http://10.2.0.20/sam/utils.html?highlight=sum#sam.utils.sum_grouped_columns\n",
    "# Used to sum the shap values that come from the same feature\n",
    "df = pd.DataFrame(shap_values[0], columns = model.get_feature_names(), index = X_test[0:10].index)\n",
    "summed_shaps = sum_grouped_columns(df)\n",
    "empty_X = pd.DataFrame(np.full_like(summed_shaps, \"\", dtype=str), columns=summed_shaps.columns)\n",
    "shap.force_plot(explainer.expected_value[0], summed_shaps.values[-1,:], empty_X.iloc[-1,:], matplotlib=True)\n",
    "\n",
    "# We see that, even though battery life is not that important overall, for this particular sample it seems to be quite important."
   ]
  },
  {
   "cell_type": "code",
   "execution_count": 18,
   "metadata": {},
   "outputs": [
    {
     "name": "stdout",
     "output_type": "stream",
     "text": [
      "SamQuantileMLP(batch_size=16, dropout=0.5, epochs=10, lr=0.001, momentum=None,\n",
      "               n_layers=2, n_neurons=200, predict_ahead=[5],\n",
      "               quantiles=(0.3, 0.7), rolling_features=['lag'],\n",
      "               rolling_window_size=(4, 19), time_components=['hour', 'weekday'],\n",
      "               time_cyclicals=['hour', 'weekday'], timecol='TIME',\n",
      "               use_y_as_feature=True, verbose=True)\n",
      "['Oak Street Weather Station_Air Temperature#lag_4', 'Oak Street Weather Station_Barometric Pressure#lag_4', 'Oak Street Weather Station_Battery Life#lag_4', 'Oak Street Weather Station_Heading#lag_4', 'Oak Street Weather Station_Humidity#lag_4', 'Oak Street Weather Station_Interval Rain#lag_4', 'Oak Street Weather Station_Maximum Wind Speed#lag_4', 'Oak Street Weather Station_Precipitation Type#lag_4', 'Oak Street Weather Station_Rain Intensity#lag_4', 'Oak Street Weather Station_Solar Radiation#lag_4', 'Oak Street Weather Station_Total Rain#lag_4', 'Oak Street Weather Station_Wet Bulb Temperature#lag_4', 'Oak Street Weather Station_Wind Direction#lag_4', 'Oak Street Weather Station_Wind Speed#lag_4', 'Ohio Street Beach_Battery Life#lag_4', 'Ohio Street Beach_Turbidity#lag_4', 'Ohio Street Beach_Wave Height#lag_4', 'Ohio Street Beach_Wave Period#lag_4', 'y_#lag_4', 'Oak Street Weather Station_Air Temperature#lag_19', 'Oak Street Weather Station_Barometric Pressure#lag_19', 'Oak Street Weather Station_Battery Life#lag_19', 'Oak Street Weather Station_Heading#lag_19', 'Oak Street Weather Station_Humidity#lag_19', 'Oak Street Weather Station_Interval Rain#lag_19', 'Oak Street Weather Station_Maximum Wind Speed#lag_19', 'Oak Street Weather Station_Precipitation Type#lag_19', 'Oak Street Weather Station_Rain Intensity#lag_19', 'Oak Street Weather Station_Solar Radiation#lag_19', 'Oak Street Weather Station_Total Rain#lag_19', 'Oak Street Weather Station_Wet Bulb Temperature#lag_19', 'Oak Street Weather Station_Wind Direction#lag_19', 'Oak Street Weather Station_Wind Speed#lag_19', 'Ohio Street Beach_Battery Life#lag_19', 'Ohio Street Beach_Turbidity#lag_19', 'Ohio Street Beach_Wave Height#lag_19', 'Ohio Street Beach_Wave Period#lag_19', 'y_#lag_19', 'Oak Street Weather Station_Air Temperature', 'Oak Street Weather Station_Barometric Pressure', 'Oak Street Weather Station_Battery Life', 'Oak Street Weather Station_Heading', 'Oak Street Weather Station_Humidity', 'Oak Street Weather Station_Interval Rain', 'Oak Street Weather Station_Maximum Wind Speed', 'Oak Street Weather Station_Precipitation Type', 'Oak Street Weather Station_Rain Intensity', 'Oak Street Weather Station_Solar Radiation', 'Oak Street Weather Station_Total Rain', 'Oak Street Weather Station_Wet Bulb Temperature', 'Oak Street Weather Station_Wind Direction', 'Oak Street Weather Station_Wind Speed', 'Ohio Street Beach_Battery Life', 'Ohio Street Beach_Turbidity', 'Ohio Street Beach_Wave Height', 'Ohio Street Beach_Wave Period', 'y_', 'TIME_hour_sin', 'TIME_hour_cos', 'TIME_weekday_sin', 'TIME_weekday_cos']\n",
      "_________________________________________________________________\n",
      "Layer (type)                 Output Shape              Param #   \n",
      "=================================================================\n",
      "input_1 (InputLayer)         (None, 61)                0         \n",
      "_________________________________________________________________\n",
      "dense (Dense)                (None, 200)               12400     \n",
      "_________________________________________________________________\n",
      "activation (Activation)      (None, 200)               0         \n",
      "_________________________________________________________________\n",
      "dropout (Dropout)            (None, 200)               0         \n",
      "_________________________________________________________________\n",
      "dense_1 (Dense)              (None, 200)               40200     \n",
      "_________________________________________________________________\n",
      "activation_1 (Activation)    (None, 200)               0         \n",
      "_________________________________________________________________\n",
      "dropout_1 (Dropout)          (None, 200)               0         \n",
      "_________________________________________________________________\n",
      "dense_2 (Dense)              (None, 3)                 603       \n",
      "=================================================================\n",
      "Total params: 53,203\n",
      "Trainable params: 53,203\n",
      "Non-trainable params: 0\n",
      "_________________________________________________________________\n"
     ]
    }
   ],
   "source": [
    "# You can dump and load\n",
    "model.dump(foldername='../output', prefix='mymodel')\n",
    "\n",
    "model = SamQuantileMLP.load(foldername='../output', prefix='mymodel')\n",
    "\n",
    "# You can view summary\n",
    "model.summary()"
   ]
  },
  {
   "cell_type": "markdown",
   "metadata": {},
   "source": [
    "# 6. Improving and extending the model\n",
    "\n",
    "In the previous sections, we saw the model performed well, but not amazingly, likely at least in part due to the feature engineering.\n",
    "Better feature engineering for the SAM model is in the pipeline (no pun intended), but in general, it may happen that for a project,\n",
    "you want to add your own features or perform feature engineering yourself. This can be done in two ways:\n",
    "\n",
    "* Perform the feature engineering before passing the data to SamQuantileMLP.\n",
    "* Subclass SamQuantileMLP, and change the feature engineering.\n",
    "\n",
    "There is no consensus yet on what is the best option, so for now, choose what you want, and report back to the SAM team about your findings!\n",
    "\n",
    "The second option may need some explanation, so we will give an example here. Note that this approach is versatile, and can be used to change SamQuantileMLP in any way you want."
   ]
  },
  {
   "cell_type": "code",
   "execution_count": 19,
   "metadata": {},
   "outputs": [
    {
     "name": "stdout",
     "output_type": "stream",
     "text": [
      "Train on 6325 samples, validate on 4060 samples\n"
     ]
    },
    {
     "name": "stderr",
     "output_type": "stream",
     "text": [
      "/home/jovyan/sam/sam/models/SamQuantileMLP.py:319: UserWarning: No timecolumn given. Make sure the data ismonospaced when given to this model!\n",
      "  \"monospaced when given to this model!\"), UserWarning)\n"
     ]
    },
    {
     "name": "stdout",
     "output_type": "stream",
     "text": [
      "Epoch 1/5\n",
      "6325/6325 [==============================] - 1s 236us/sample - loss: 0.9271 - val_loss: 0.7125\n",
      "Epoch 2/5\n",
      "6325/6325 [==============================] - 1s 190us/sample - loss: 0.7927 - val_loss: 0.6623\n",
      "Epoch 3/5\n",
      "6325/6325 [==============================] - 1s 188us/sample - loss: 0.7689 - val_loss: 0.7033\n",
      "Epoch 4/5\n",
      "6325/6325 [==============================] - 1s 188us/sample - loss: 0.7240 - val_loss: 0.6536\n",
      "Epoch 5/5\n",
      "6325/6325 [==============================] - 1s 187us/sample - loss: 0.7230 - val_loss: 0.6349\n"
     ]
    }
   ],
   "source": [
    "# Here, we show an example of subclassing and changing the SAM model. In this case, we are actually making it worse.\n",
    "# However, you can change the model in any way you want, even making it better!\n",
    "\n",
    "from sklearn.impute import SimpleImputer\n",
    "from sklearn.pipeline import Pipeline\n",
    "from sklearn.preprocessing import StandardScaler\n",
    "\n",
    "class MyBetterSamModel(SamQuantileMLP):\n",
    "    \n",
    "    def get_feature_engineer(self):\n",
    "        # Function that returns an Sklearn transformer\n",
    "        scaler = StandardScaler()\n",
    "        imputer = SimpleImputer()\n",
    "        return Pipeline([('scaler', scaler),\n",
    "                         ('imputer', imputer)])\n",
    "    \n",
    "    # Note: When changing `get_feature_engineer`, this function should also be changed since they depends on the feature engineer.\n",
    "    # It is not obvious what the feature names should be in general, especially because a lot of transformers output\n",
    "    # numpy arrays. For that reason, we need an additional function to decide the feature names\n",
    "\n",
    "    def set_feature_names(self, X, X_transformed):\n",
    "        # Note that this function can access the fitted feature engineer with `self.feature_engineer_`\n",
    "        # In this case, we are not changing the columns, so just return X.columns\n",
    "        return X.columns\n",
    "\n",
    "model = MyBetterSamModel(predict_ahead=5,  timecol=None, epochs=5)  # Our model cannot handle a time column, so we won't pass it\n",
    "\n",
    "# We need to drop the timecol to prevent StandardScaler from crashing\n",
    "history = model.fit(X_train.drop('TIME', axis=1), y_train,\n",
    "                    validation_data = (X_test.drop('TIME', axis=1), y_test))\n",
    "    "
   ]
  },
  {
   "cell_type": "code",
   "execution_count": 20,
   "metadata": {},
   "outputs": [
    {
     "name": "stderr",
     "output_type": "stream",
     "text": [
      "/home/jovyan/sam/sam/models/SamQuantileMLP.py:319: UserWarning: No timecolumn given. Make sure the data ismonospaced when given to this model!\n",
      "  \"monospaced when given to this model!\"), UserWarning)\n"
     ]
    },
    {
     "name": "stdout",
     "output_type": "stream",
     "text": [
      "Benchmark:  0.7820024630541873\n",
      "Model:  0.6348778715782873\n"
     ]
    }
   ],
   "source": [
    "predictions = pd.DataFrame({\n",
    "    'actual': model.get_actual(y_test),\n",
    "    'persistence': y_test,\n",
    "    'prediction': model.predict(X_test.drop('TIME', axis=1), y_test)  # note that since we are only predicting a single column, this will return a series\n",
    "}).dropna()\n",
    "\n",
    "print(\"Benchmark: \", mean_squared_error(predictions['actual'], predictions['persistence']))\n",
    "print(\"Model: \", mean_squared_error(predictions['actual'], predictions['prediction']))\n",
    "\n",
    "# As we can see, as expected, the model does worse than the default model (since we are doing no feature engineering)"
   ]
  },
  {
   "cell_type": "markdown",
   "metadata": {},
   "source": [
    "# 7. Training an LSTM instead\n",
    "\n",
    "We cannot use SamQuantileMLP with `sam.models.create_keras_quantile_rnn` as a model instead of the default MLP. The reason for that is because lstm require 3d input.\n",
    "\n",
    "If there is demand, expect SamQuantileRnn in the future!"
   ]
  }
 ],
 "metadata": {
  "kernelspec": {
   "display_name": "r-tensorflow",
   "language": "python",
   "name": "r-tensorflow"
  },
  "language_info": {
   "codemirror_mode": {
    "name": "ipython",
    "version": 3
   },
   "file_extension": ".py",
   "mimetype": "text/x-python",
   "name": "python",
   "nbconvert_exporter": "python",
   "pygments_lexer": "ipython3",
   "version": "3.7.3"
  }
 },
 "nbformat": 4,
 "nbformat_minor": 2
}
